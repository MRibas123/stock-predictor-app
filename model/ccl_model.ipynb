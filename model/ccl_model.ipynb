{
 "cells": [
  {
   "cell_type": "code",
   "execution_count": 8,
   "id": "separated-causing",
   "metadata": {},
   "outputs": [],
   "source": [
    "from pandas_datareader import data"
   ]
  },
  {
   "cell_type": "code",
   "execution_count": 9,
   "id": "healthy-commodity",
   "metadata": {},
   "outputs": [],
   "source": [
    "ccl = data.DataReader(\"CCL\", \n",
    "                       start='2000-1-1', \n",
    "                       end='2020-12-31', \n",
    "                       data_source='yahoo')"
   ]
  },
  {
   "cell_type": "code",
   "execution_count": 11,
   "id": "combined-string",
   "metadata": {},
   "outputs": [],
   "source": [
    "ccl = ccl.reset_index()"
   ]
  },
  {
   "cell_type": "code",
   "execution_count": 12,
   "id": "eligible-collar",
   "metadata": {},
   "outputs": [],
   "source": [
    "ccl['Year'] = ccl['Date'].dt.year\n",
    "ccl['month'] = ccl['Date'].dt.month\n",
    "ccl['day'] = ccl['Date'].dt.day"
   ]
  },
  {
   "cell_type": "code",
   "execution_count": 16,
   "id": "major-switch",
   "metadata": {},
   "outputs": [],
   "source": [
    "def quarter(row):\n",
    "    if row['month'] == 1 or row['month'] == 2 or row['month'] == 3:\n",
    "        return 1\n",
    "    elif row['month'] == 4 or row['month'] == 5 or row['month'] == 6:\n",
    "        return 4\n",
    "    elif row['month'] == 7 or row['month'] == 8 or row['month'] == 9:\n",
    "        return 7\n",
    "    else:\n",
    "        return 10\n",
    "\n",
    "ccl['quarter'] = ccl.apply(quarter, axis =1)"
   ]
  },
  {
   "cell_type": "code",
   "execution_count": 18,
   "id": "czech-ireland",
   "metadata": {},
   "outputs": [
    {
     "data": {
      "image/png": "[encoded data removed]",
      "text/plain": [
       "<Figure size 432x288 with 1 Axes>"
      ]
     },
     "metadata": {
      "needs_background": "light"
     },
     "output_type": "display_data"
    }
   ],
   "source": [
    "import matplotlib.pyplot as plt\n",
    "plt.plot(ccl['Adj Close'])\n",
    "plt.show()"
   ]
  },
  {
   "cell_type": "code",
   "execution_count": 20,
   "id": "cardiovascular-chosen",
   "metadata": {},
   "outputs": [
    {
     "data": {
      "text/html": [
       "<div>\n",
       "<style scoped>\n",
       "    .dataframe tbody tr th:only-of-type {\n",
       "        vertical-align: middle;\n",
       "    }\n",
       "\n",
       "    .dataframe tbody tr th {\n",
       "        vertical-align: top;\n",
       "    }\n",
       "\n",
       "    .dataframe thead th {\n",
       "        text-align: right;\n",
       "    }\n",
       "</style>\n",
       "<table border=\"1\" class=\"dataframe\">\n",
       "  <thead>\n",
       "    <tr style=\"text-align: right;\">\n",
       "      <th></th>\n",
       "      <th>DATE</th>\n",
       "      <th>GDP</th>\n",
       "      <th>growth_rate</th>\n",
       "      <th>year</th>\n",
       "      <th>month</th>\n",
       "      <th>jobs</th>\n",
       "      <th>growth_jobs</th>\n",
       "    </tr>\n",
       "  </thead>\n",
       "  <tbody>\n",
       "    <tr>\n",
       "      <th>212</th>\n",
       "      <td>2000-01-01</td>\n",
       "      <td>10002.857</td>\n",
       "      <td>1.045308</td>\n",
       "      <td>2000</td>\n",
       "      <td>1</td>\n",
       "      <td>131005</td>\n",
       "      <td>0.636057</td>\n",
       "    </tr>\n",
       "    <tr>\n",
       "      <th>213</th>\n",
       "      <td>2000-04-01</td>\n",
       "      <td>10247.679</td>\n",
       "      <td>2.447521</td>\n",
       "      <td>2000</td>\n",
       "      <td>4</td>\n",
       "      <td>131888</td>\n",
       "      <td>0.674020</td>\n",
       "    </tr>\n",
       "    <tr>\n",
       "      <th>214</th>\n",
       "      <td>2000-07-01</td>\n",
       "      <td>10319.825</td>\n",
       "      <td>0.704023</td>\n",
       "      <td>2000</td>\n",
       "      <td>7</td>\n",
       "      <td>132236</td>\n",
       "      <td>0.263860</td>\n",
       "    </tr>\n",
       "    <tr>\n",
       "      <th>215</th>\n",
       "      <td>2000-10-01</td>\n",
       "      <td>10439.025</td>\n",
       "      <td>1.155058</td>\n",
       "      <td>2000</td>\n",
       "      <td>10</td>\n",
       "      <td>132351</td>\n",
       "      <td>0.086966</td>\n",
       "    </tr>\n",
       "    <tr>\n",
       "      <th>216</th>\n",
       "      <td>2001-01-01</td>\n",
       "      <td>10472.879</td>\n",
       "      <td>0.324302</td>\n",
       "      <td>2001</td>\n",
       "      <td>1</td>\n",
       "      <td>132698</td>\n",
       "      <td>0.262182</td>\n",
       "    </tr>\n",
       "    <tr>\n",
       "      <th>...</th>\n",
       "      <td>...</td>\n",
       "      <td>...</td>\n",
       "      <td>...</td>\n",
       "      <td>...</td>\n",
       "      <td>...</td>\n",
       "      <td>...</td>\n",
       "      <td>...</td>\n",
       "    </tr>\n",
       "    <tr>\n",
       "      <th>291</th>\n",
       "      <td>2019-10-01</td>\n",
       "      <td>21729.124</td>\n",
       "      <td>0.866119</td>\n",
       "      <td>2019</td>\n",
       "      <td>10</td>\n",
       "      <td>151524</td>\n",
       "      <td>0.404869</td>\n",
       "    </tr>\n",
       "    <tr>\n",
       "      <th>292</th>\n",
       "      <td>2020-01-01</td>\n",
       "      <td>21539.689</td>\n",
       "      <td>-0.871802</td>\n",
       "      <td>2020</td>\n",
       "      <td>1</td>\n",
       "      <td>152234</td>\n",
       "      <td>0.468573</td>\n",
       "    </tr>\n",
       "    <tr>\n",
       "      <th>293</th>\n",
       "      <td>2020-04-01</td>\n",
       "      <td>19520.114</td>\n",
       "      <td>-9.376064</td>\n",
       "      <td>2020</td>\n",
       "      <td>4</td>\n",
       "      <td>130161</td>\n",
       "      <td>-14.499389</td>\n",
       "    </tr>\n",
       "    <tr>\n",
       "      <th>294</th>\n",
       "      <td>2020-07-01</td>\n",
       "      <td>21170.252</td>\n",
       "      <td>8.453526</td>\n",
       "      <td>2020</td>\n",
       "      <td>7</td>\n",
       "      <td>139566</td>\n",
       "      <td>7.225667</td>\n",
       "    </tr>\n",
       "    <tr>\n",
       "      <th>295</th>\n",
       "      <td>2020-10-01</td>\n",
       "      <td>21487.896</td>\n",
       "      <td>1.500426</td>\n",
       "      <td>2020</td>\n",
       "      <td>10</td>\n",
       "      <td>142545</td>\n",
       "      <td>2.134474</td>\n",
       "    </tr>\n",
       "  </tbody>\n",
       "</table>\n",
       "<p>84 rows × 7 columns</p>\n",
       "</div>"
      ],
      "text/plain": [
       "           DATE        GDP  growth_rate  year  month    jobs  growth_jobs\n",
       "212  2000-01-01  10002.857     1.045308  2000      1  131005     0.636057\n",
       "213  2000-04-01  10247.679     2.447521  2000      4  131888     0.674020\n",
       "214  2000-07-01  10319.825     0.704023  2000      7  132236     0.263860\n",
       "215  2000-10-01  10439.025     1.155058  2000     10  132351     0.086966\n",
       "216  2001-01-01  10472.879     0.324302  2001      1  132698     0.262182\n",
       "..          ...        ...          ...   ...    ...     ...          ...\n",
       "291  2019-10-01  21729.124     0.866119  2019     10  151524     0.404869\n",
       "292  2020-01-01  21539.689    -0.871802  2020      1  152234     0.468573\n",
       "293  2020-04-01  19520.114    -9.376064  2020      4  130161   -14.499389\n",
       "294  2020-07-01  21170.252     8.453526  2020      7  139566     7.225667\n",
       "295  2020-10-01  21487.896     1.500426  2020     10  142545     2.134474\n",
       "\n",
       "[84 rows x 7 columns]"
      ]
     },
     "execution_count": 20,
     "metadata": {},
     "output_type": "execute_result"
    }
   ],
   "source": [
    "import pandas as pd\n",
    "\n",
    "data = pd.read_csv('data_usa.csv', index_col=0)\n",
    "\n",
    "data_ccl = data[data['year'] >= 2000 ]\n",
    "data_ccl"
   ]
  },
  {
   "cell_type": "code",
   "execution_count": 22,
   "id": "superb-thesaurus",
   "metadata": {},
   "outputs": [],
   "source": [
    "ccl_final = pd.merge(left = data_ccl.reset_index(drop=True), right = ccl, left_on = 'month', right_on = 'quarter', how= 'left')"
   ]
  },
  {
   "cell_type": "code",
   "execution_count": 29,
   "id": "leading-ground",
   "metadata": {},
   "outputs": [],
   "source": [
    "ccl_final = ccl_final[['Date','GDP','growth_rate','jobs','growth_jobs','High','Low','Open','Close','Volume','Adj Close','quarter','Year','month_y','day']].set_index('Date')"
   ]
  },
  {
   "cell_type": "code",
   "execution_count": 2,
   "id": "infectious-rental",
   "metadata": {},
   "outputs": [
    {
     "ename": "NameError",
     "evalue": "name 'aapl_final' is not defined",
     "output_type": "error",
     "traceback": [
      "\u001b[1;31m---------------------------------------------------------------------------\u001b[0m",
      "\u001b[1;31mNameError\u001b[0m                                 Traceback (most recent call last)",
      "\u001b[1;32m<ipython-input-2-077f063831e8>\u001b[0m in \u001b[0;36m<module>\u001b[1;34m\u001b[0m\n\u001b[1;32m----> 1\u001b[1;33m \u001b[0maapl_final\u001b[0m\u001b[1;33m\u001b[0m\u001b[1;33m\u001b[0m\u001b[0m\n\u001b[0m",
      "\u001b[1;31mNameError\u001b[0m: name 'aapl_final' is not defined"
     ]
    }
   ],
   "source": [
    "ccl_final"
   ]
  },
  {
   "cell_type": "code",
   "execution_count": 1,
   "id": "younger-lodge",
   "metadata": {},
   "outputs": [
    {
     "ename": "NameError",
     "evalue": "name 'aapl_final' is not defined",
     "output_type": "error",
     "traceback": [
      "\u001b[1;31m---------------------------------------------------------------------------\u001b[0m",
      "\u001b[1;31mNameError\u001b[0m                                 Traceback (most recent call last)",
      "\u001b[1;32m<ipython-input-1-b177faaa29d5>\u001b[0m in \u001b[0;36m<module>\u001b[1;34m\u001b[0m\n\u001b[1;32m----> 1\u001b[1;33m \u001b[0mX\u001b[0m \u001b[1;33m=\u001b[0m \u001b[0maapl_final\u001b[0m\u001b[1;33m.\u001b[0m\u001b[0mdrop\u001b[0m\u001b[1;33m(\u001b[0m\u001b[1;33m[\u001b[0m\u001b[1;34m'GDP'\u001b[0m\u001b[1;33m,\u001b[0m\u001b[1;34m'jobs'\u001b[0m\u001b[1;33m,\u001b[0m\u001b[1;34m'Close'\u001b[0m\u001b[1;33m,\u001b[0m\u001b[1;34m'Volume'\u001b[0m\u001b[1;33m]\u001b[0m\u001b[1;33m,\u001b[0m \u001b[0maxis\u001b[0m \u001b[1;33m=\u001b[0m \u001b[1;36m1\u001b[0m\u001b[1;33m)\u001b[0m\u001b[1;33m\u001b[0m\u001b[1;33m\u001b[0m\u001b[0m\n\u001b[0m\u001b[0;32m      2\u001b[0m \u001b[0my\u001b[0m \u001b[1;33m=\u001b[0m \u001b[0maapl_final\u001b[0m\u001b[1;33m[\u001b[0m\u001b[1;34m'Close'\u001b[0m\u001b[1;33m]\u001b[0m\u001b[1;33m\u001b[0m\u001b[1;33m\u001b[0m\u001b[0m\n\u001b[0;32m      3\u001b[0m \u001b[1;33m\u001b[0m\u001b[0m\n\u001b[0;32m      4\u001b[0m \u001b[0mX_train\u001b[0m \u001b[1;33m=\u001b[0m \u001b[0mX\u001b[0m\u001b[1;33m[\u001b[0m\u001b[1;33m:\u001b[0m\u001b[1;36m105416\u001b[0m\u001b[1;33m]\u001b[0m\u001b[1;33m\u001b[0m\u001b[1;33m\u001b[0m\u001b[0m\n\u001b[0;32m      5\u001b[0m \u001b[0my_train\u001b[0m \u001b[1;33m=\u001b[0m \u001b[0my\u001b[0m\u001b[1;33m[\u001b[0m\u001b[1;36m1\u001b[0m\u001b[1;33m:\u001b[0m\u001b[1;36m105417\u001b[0m\u001b[1;33m]\u001b[0m\u001b[1;33m\u001b[0m\u001b[1;33m\u001b[0m\u001b[0m\n",
      "\u001b[1;31mNameError\u001b[0m: name 'aapl_final' is not defined"
     ]
    }
   ],
   "source": [
    "X = ccl_final.drop(['GDP','jobs','Close','Volume'], axis = 1)\n",
    "y = ccl_final['Close']\n",
    "\n",
    "X_train = X[:105416]\n",
    "y_train = y[1:105417]\n",
    "\n",
    "X_test = X[105416:len(X)-1]\n",
    "y_test = y[105417:]\n"
   ]
  },
  {
   "cell_type": "code",
   "execution_count": 40,
   "id": "through-driving",
   "metadata": {},
   "outputs": [
    {
     "name": "stdout",
     "output_type": "stream",
     "text": [
      "[13:34:23] WARNING: src/objective/regression_obj.cu:152: reg:linear is now deprecated in favor of reg:squarederror.\n"
     ]
    },
    {
     "data": {
      "text/plain": [
       "0.9887836725128548"
      ]
     },
     "metadata": {},
     "output_type": "display_data"
    },
    {
     "data": {
      "text/plain": [
       "0.9885041036844388"
      ]
     },
     "metadata": {},
     "output_type": "display_data"
    }
   ],
   "source": [
    "import xgboost\n",
    "\n",
    "xgb_reg = xgboost.XGBRegressor()\n",
    "xgb_reg.fit(X_train, y_train)\n",
    "display(xgb_reg.score(X_test,y_test))\n",
    "display(xgb_reg.score(X_train,y_train))"
   ]
  },
  {
   "cell_type": "code",
   "execution_count": 41,
   "id": "chemical-improvement",
   "metadata": {},
   "outputs": [],
   "source": [
    "pred = xgb_reg.predict(X_test)"
   ]
  },
  {
   "cell_type": "code",
   "execution_count": 42,
   "id": "violent-demographic",
   "metadata": {},
   "outputs": [
    {
     "data": {
      "text/plain": [
       "0.9887836725128548"
      ]
     },
     "execution_count": 42,
     "metadata": {},
     "output_type": "execute_result"
    }
   ],
   "source": [
    "from sklearn.metrics import r2_score\n",
    "\n",
    "\n",
    "r2_score(y_test, pred)"
   ]
  },
  {
   "cell_type": "code",
   "execution_count": 43,
   "id": "serious-covering",
   "metadata": {},
   "outputs": [
    {
     "name": "stdout",
     "output_type": "stream",
     "text": [
      "[13:35:24] WARNING: src/objective/regression_obj.cu:152: reg:linear is now deprecated in favor of reg:squarederror.\n",
      "[13:35:25] WARNING: src/objective/regression_obj.cu:152: reg:linear is now deprecated in favor of reg:squarederror.\n",
      "[13:35:27] WARNING: src/objective/regression_obj.cu:152: reg:linear is now deprecated in favor of reg:squarederror.\n",
      "[13:35:29] WARNING: src/objective/regression_obj.cu:152: reg:linear is now deprecated in favor of reg:squarederror.\n",
      "[13:35:31] WARNING: src/objective/regression_obj.cu:152: reg:linear is now deprecated in favor of reg:squarederror.\n",
      "[13:35:33] WARNING: src/objective/regression_obj.cu:152: reg:linear is now deprecated in favor of reg:squarederror.\n",
      "[13:35:35] WARNING: src/objective/regression_obj.cu:152: reg:linear is now deprecated in favor of reg:squarederror.\n",
      "[13:35:37] WARNING: src/objective/regression_obj.cu:152: reg:linear is now deprecated in favor of reg:squarederror.\n",
      "[13:35:39] WARNING: src/objective/regression_obj.cu:152: reg:linear is now deprecated in favor of reg:squarederror.\n",
      "[13:35:41] WARNING: src/objective/regression_obj.cu:152: reg:linear is now deprecated in favor of reg:squarederror.\n"
     ]
    }
   ],
   "source": [
    "from sklearn.model_selection import cross_validate\n",
    "\n",
    "results = cross_validate(xgb_reg,X_train, y_train, cv = 10)\n"
   ]
  },
  {
   "cell_type": "code",
   "execution_count": 44,
   "id": "cross-county",
   "metadata": {},
   "outputs": [
    {
     "data": {
      "text/plain": [
       "array([0.98852538, 0.98862401, 0.98834009, 0.98801977, 0.98855727,\n",
       "       0.98817083, 0.98837231, 0.988122  , 0.98812525, 0.98826555])"
      ]
     },
     "execution_count": 44,
     "metadata": {},
     "output_type": "execute_result"
    }
   ],
   "source": [
    "results['test_score'].mean()\n",
    "results['test_score']"
   ]
  },
  {
   "cell_type": "code",
   "execution_count": 45,
   "id": "adopted-suicide",
   "metadata": {},
   "outputs": [],
   "source": [
    "import pickle\n",
    "\n",
    "pickle.dump(xgb_reg, open('model_ccl.p', 'wb'))"
   ]
  }
 ],
 "metadata": {
  "kernelspec": {
   "display_name": "Python 3",
   "language": "python",
   "name": "python3"
  },
  "language_info": {
   "codemirror_mode": {
    "name": "ipython",
    "version": 3
   },
   "file_extension": ".py",
   "mimetype": "text/x-python",
   "name": "python",
   "nbconvert_exporter": "python",
   "pygments_lexer": "ipython3",
   "version": "3.7.10"
  }
 },
 "nbformat": 4,
 "nbformat_minor": 5
}
