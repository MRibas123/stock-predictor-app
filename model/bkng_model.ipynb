{
 "cells": [
  {
   "cell_type": "code",
   "execution_count": 12,
   "id": "declared-factory",
   "metadata": {},
   "outputs": [],
   "source": [
    "from pandas_datareader import data"
   ]
  },
  {
   "cell_type": "code",
   "execution_count": 13,
   "id": "supposed-relations",
   "metadata": {},
   "outputs": [],
   "source": [
    "bkng = data.DataReader(\"BKNG\", \n",
    "                       start='2000-1-1', \n",
    "                       end='2020-12-31', \n",
    "                       data_source='yahoo')"
   ]
  },
  {
   "cell_type": "code",
   "execution_count": 14,
   "id": "wooden-bosnia",
   "metadata": {},
   "outputs": [],
   "source": [
    "bkng = bkng.reset_index()"
   ]
  },
  {
   "cell_type": "code",
   "execution_count": 15,
   "id": "accepting-filter",
   "metadata": {},
   "outputs": [],
   "source": [
    "bkng['Year'] = bkng['Date'].dt.year\n",
    "bkng['month'] = bkng['Date'].dt.month\n",
    "bkng['day'] = bkng['Date'].dt.day"
   ]
  },
  {
   "cell_type": "code",
   "execution_count": 16,
   "id": "subject-butter",
   "metadata": {},
   "outputs": [],
   "source": [
    "def quarter(row):\n",
    "    if row['month'] == 1 or row['month'] == 2 or row['month'] == 3:\n",
    "        return 1\n",
    "    elif row['month'] == 4 or row['month'] == 5 or row['month'] == 6:\n",
    "        return 4\n",
    "    elif row['month'] == 7 or row['month'] == 8 or row['month'] == 9:\n",
    "        return 7\n",
    "    else:\n",
    "        return 10\n",
    "\n",
    "bkng['quarter'] = bkng.apply(quarter, axis =1)"
   ]
  },
  {
   "cell_type": "code",
   "execution_count": 17,
   "id": "occasional-heart",
   "metadata": {},
   "outputs": [
    {
     "data": {
      "image/png": "[encoded data removed]",
      "text/plain": [
       "<Figure size 432x288 with 1 Axes>"
      ]
     },
     "metadata": {
      "needs_background": "light"
     },
     "output_type": "display_data"
    }
   ],
   "source": [
    "import matplotlib.pyplot as plt\n",
    "plt.plot(bkng['Adj Close'])\n",
    "plt.show()"
   ]
  },
  {
   "cell_type": "code",
   "execution_count": 18,
   "id": "comprehensive-anxiety",
   "metadata": {},
   "outputs": [
    {
     "data": {
      "text/html": [
       "<div>\n",
       "<style scoped>\n",
       "    .dataframe tbody tr th:only-of-type {\n",
       "        vertical-align: middle;\n",
       "    }\n",
       "\n",
       "    .dataframe tbody tr th {\n",
       "        vertical-align: top;\n",
       "    }\n",
       "\n",
       "    .dataframe thead th {\n",
       "        text-align: right;\n",
       "    }\n",
       "</style>\n",
       "<table border=\"1\" class=\"dataframe\">\n",
       "  <thead>\n",
       "    <tr style=\"text-align: right;\">\n",
       "      <th></th>\n",
       "      <th>DATE</th>\n",
       "      <th>GDP</th>\n",
       "      <th>growth_rate</th>\n",
       "      <th>year</th>\n",
       "      <th>month</th>\n",
       "      <th>jobs</th>\n",
       "      <th>growth_jobs</th>\n",
       "    </tr>\n",
       "  </thead>\n",
       "  <tbody>\n",
       "    <tr>\n",
       "      <th>212</th>\n",
       "      <td>2000-01-01</td>\n",
       "      <td>10002.857</td>\n",
       "      <td>1.045308</td>\n",
       "      <td>2000</td>\n",
       "      <td>1</td>\n",
       "      <td>131005</td>\n",
       "      <td>0.636057</td>\n",
       "    </tr>\n",
       "    <tr>\n",
       "      <th>213</th>\n",
       "      <td>2000-04-01</td>\n",
       "      <td>10247.679</td>\n",
       "      <td>2.447521</td>\n",
       "      <td>2000</td>\n",
       "      <td>4</td>\n",
       "      <td>131888</td>\n",
       "      <td>0.674020</td>\n",
       "    </tr>\n",
       "    <tr>\n",
       "      <th>214</th>\n",
       "      <td>2000-07-01</td>\n",
       "      <td>10319.825</td>\n",
       "      <td>0.704023</td>\n",
       "      <td>2000</td>\n",
       "      <td>7</td>\n",
       "      <td>132236</td>\n",
       "      <td>0.263860</td>\n",
       "    </tr>\n",
       "    <tr>\n",
       "      <th>215</th>\n",
       "      <td>2000-10-01</td>\n",
       "      <td>10439.025</td>\n",
       "      <td>1.155058</td>\n",
       "      <td>2000</td>\n",
       "      <td>10</td>\n",
       "      <td>132351</td>\n",
       "      <td>0.086966</td>\n",
       "    </tr>\n",
       "    <tr>\n",
       "      <th>216</th>\n",
       "      <td>2001-01-01</td>\n",
       "      <td>10472.879</td>\n",
       "      <td>0.324302</td>\n",
       "      <td>2001</td>\n",
       "      <td>1</td>\n",
       "      <td>132698</td>\n",
       "      <td>0.262182</td>\n",
       "    </tr>\n",
       "    <tr>\n",
       "      <th>...</th>\n",
       "      <td>...</td>\n",
       "      <td>...</td>\n",
       "      <td>...</td>\n",
       "      <td>...</td>\n",
       "      <td>...</td>\n",
       "      <td>...</td>\n",
       "      <td>...</td>\n",
       "    </tr>\n",
       "    <tr>\n",
       "      <th>291</th>\n",
       "      <td>2019-10-01</td>\n",
       "      <td>21729.124</td>\n",
       "      <td>0.866119</td>\n",
       "      <td>2019</td>\n",
       "      <td>10</td>\n",
       "      <td>151524</td>\n",
       "      <td>0.404869</td>\n",
       "    </tr>\n",
       "    <tr>\n",
       "      <th>292</th>\n",
       "      <td>2020-01-01</td>\n",
       "      <td>21539.689</td>\n",
       "      <td>-0.871802</td>\n",
       "      <td>2020</td>\n",
       "      <td>1</td>\n",
       "      <td>152234</td>\n",
       "      <td>0.468573</td>\n",
       "    </tr>\n",
       "    <tr>\n",
       "      <th>293</th>\n",
       "      <td>2020-04-01</td>\n",
       "      <td>19520.114</td>\n",
       "      <td>-9.376064</td>\n",
       "      <td>2020</td>\n",
       "      <td>4</td>\n",
       "      <td>130161</td>\n",
       "      <td>-14.499389</td>\n",
       "    </tr>\n",
       "    <tr>\n",
       "      <th>294</th>\n",
       "      <td>2020-07-01</td>\n",
       "      <td>21170.252</td>\n",
       "      <td>8.453526</td>\n",
       "      <td>2020</td>\n",
       "      <td>7</td>\n",
       "      <td>139566</td>\n",
       "      <td>7.225667</td>\n",
       "    </tr>\n",
       "    <tr>\n",
       "      <th>295</th>\n",
       "      <td>2020-10-01</td>\n",
       "      <td>21487.896</td>\n",
       "      <td>1.500426</td>\n",
       "      <td>2020</td>\n",
       "      <td>10</td>\n",
       "      <td>142545</td>\n",
       "      <td>2.134474</td>\n",
       "    </tr>\n",
       "  </tbody>\n",
       "</table>\n",
       "<p>84 rows × 7 columns</p>\n",
       "</div>"
      ],
      "text/plain": [
       "           DATE        GDP  growth_rate  year  month    jobs  growth_jobs\n",
       "212  2000-01-01  10002.857     1.045308  2000      1  131005     0.636057\n",
       "213  2000-04-01  10247.679     2.447521  2000      4  131888     0.674020\n",
       "214  2000-07-01  10319.825     0.704023  2000      7  132236     0.263860\n",
       "215  2000-10-01  10439.025     1.155058  2000     10  132351     0.086966\n",
       "216  2001-01-01  10472.879     0.324302  2001      1  132698     0.262182\n",
       "..          ...        ...          ...   ...    ...     ...          ...\n",
       "291  2019-10-01  21729.124     0.866119  2019     10  151524     0.404869\n",
       "292  2020-01-01  21539.689    -0.871802  2020      1  152234     0.468573\n",
       "293  2020-04-01  19520.114    -9.376064  2020      4  130161   -14.499389\n",
       "294  2020-07-01  21170.252     8.453526  2020      7  139566     7.225667\n",
       "295  2020-10-01  21487.896     1.500426  2020     10  142545     2.134474\n",
       "\n",
       "[84 rows x 7 columns]"
      ]
     },
     "execution_count": 18,
     "metadata": {},
     "output_type": "execute_result"
    }
   ],
   "source": [
    "import pandas as pd\n",
    "\n",
    "data = pd.read_csv('data_usa.csv', index_col=0)\n",
    "\n",
    "data_bkng = data[data['year'] >= 2000 ]\n",
    "data_bkng"
   ]
  },
  {
   "cell_type": "code",
   "execution_count": 19,
   "id": "suited-traffic",
   "metadata": {},
   "outputs": [],
   "source": [
    "bkng_final = pd.merge(left = data_bkng.reset_index(drop=True), right = bkng, left_on = 'month', right_on = 'quarter', how= 'left')"
   ]
  },
  {
   "cell_type": "code",
   "execution_count": 20,
   "id": "romance-hormone",
   "metadata": {},
   "outputs": [
    {
     "data": {
      "text/html": [
       "<div>\n",
       "<style scoped>\n",
       "    .dataframe tbody tr th:only-of-type {\n",
       "        vertical-align: middle;\n",
       "    }\n",
       "\n",
       "    .dataframe tbody tr th {\n",
       "        vertical-align: top;\n",
       "    }\n",
       "\n",
       "    .dataframe thead th {\n",
       "        text-align: right;\n",
       "    }\n",
       "</style>\n",
       "<table border=\"1\" class=\"dataframe\">\n",
       "  <thead>\n",
       "    <tr style=\"text-align: right;\">\n",
       "      <th></th>\n",
       "      <th>GDP</th>\n",
       "      <th>growth_rate</th>\n",
       "      <th>jobs</th>\n",
       "      <th>growth_jobs</th>\n",
       "      <th>High</th>\n",
       "      <th>Low</th>\n",
       "      <th>Open</th>\n",
       "      <th>Close</th>\n",
       "      <th>Volume</th>\n",
       "      <th>Adj Close</th>\n",
       "      <th>quarter</th>\n",
       "      <th>Year</th>\n",
       "      <th>month_y</th>\n",
       "      <th>day</th>\n",
       "    </tr>\n",
       "    <tr>\n",
       "      <th>Date</th>\n",
       "      <th></th>\n",
       "      <th></th>\n",
       "      <th></th>\n",
       "      <th></th>\n",
       "      <th></th>\n",
       "      <th></th>\n",
       "      <th></th>\n",
       "      <th></th>\n",
       "      <th></th>\n",
       "      <th></th>\n",
       "      <th></th>\n",
       "      <th></th>\n",
       "      <th></th>\n",
       "      <th></th>\n",
       "    </tr>\n",
       "  </thead>\n",
       "  <tbody>\n",
       "    <tr>\n",
       "      <th>2000-01-03</th>\n",
       "      <td>10002.857</td>\n",
       "      <td>1.045308</td>\n",
       "      <td>131005</td>\n",
       "      <td>0.636057</td>\n",
       "      <td>318.000000</td>\n",
       "      <td>288.000000</td>\n",
       "      <td>315.000000</td>\n",
       "      <td>307.500000</td>\n",
       "      <td>847700.0</td>\n",
       "      <td>307.500000</td>\n",
       "      <td>1</td>\n",
       "      <td>2000</td>\n",
       "      <td>1</td>\n",
       "      <td>3</td>\n",
       "    </tr>\n",
       "    <tr>\n",
       "      <th>2000-01-04</th>\n",
       "      <td>10002.857</td>\n",
       "      <td>1.045308</td>\n",
       "      <td>131005</td>\n",
       "      <td>0.636057</td>\n",
       "      <td>343.500000</td>\n",
       "      <td>307.500000</td>\n",
       "      <td>308.250000</td>\n",
       "      <td>324.000000</td>\n",
       "      <td>972750.0</td>\n",
       "      <td>324.000000</td>\n",
       "      <td>1</td>\n",
       "      <td>2000</td>\n",
       "      <td>1</td>\n",
       "      <td>4</td>\n",
       "    </tr>\n",
       "    <tr>\n",
       "      <th>2000-01-05</th>\n",
       "      <td>10002.857</td>\n",
       "      <td>1.045308</td>\n",
       "      <td>131005</td>\n",
       "      <td>0.636057</td>\n",
       "      <td>385.312500</td>\n",
       "      <td>327.750000</td>\n",
       "      <td>331.500000</td>\n",
       "      <td>359.625000</td>\n",
       "      <td>1605417.0</td>\n",
       "      <td>359.625000</td>\n",
       "      <td>1</td>\n",
       "      <td>2000</td>\n",
       "      <td>1</td>\n",
       "      <td>5</td>\n",
       "    </tr>\n",
       "    <tr>\n",
       "      <th>2000-01-06</th>\n",
       "      <td>10002.857</td>\n",
       "      <td>1.045308</td>\n",
       "      <td>131005</td>\n",
       "      <td>0.636057</td>\n",
       "      <td>384.750000</td>\n",
       "      <td>326.250000</td>\n",
       "      <td>368.250000</td>\n",
       "      <td>345.000000</td>\n",
       "      <td>1175267.0</td>\n",
       "      <td>345.000000</td>\n",
       "      <td>1</td>\n",
       "      <td>2000</td>\n",
       "      <td>1</td>\n",
       "      <td>6</td>\n",
       "    </tr>\n",
       "    <tr>\n",
       "      <th>2000-01-07</th>\n",
       "      <td>10002.857</td>\n",
       "      <td>1.045308</td>\n",
       "      <td>131005</td>\n",
       "      <td>0.636057</td>\n",
       "      <td>364.500000</td>\n",
       "      <td>333.750000</td>\n",
       "      <td>358.125000</td>\n",
       "      <td>343.500000</td>\n",
       "      <td>339417.0</td>\n",
       "      <td>343.500000</td>\n",
       "      <td>1</td>\n",
       "      <td>2000</td>\n",
       "      <td>1</td>\n",
       "      <td>7</td>\n",
       "    </tr>\n",
       "    <tr>\n",
       "      <th>...</th>\n",
       "      <td>...</td>\n",
       "      <td>...</td>\n",
       "      <td>...</td>\n",
       "      <td>...</td>\n",
       "      <td>...</td>\n",
       "      <td>...</td>\n",
       "      <td>...</td>\n",
       "      <td>...</td>\n",
       "      <td>...</td>\n",
       "      <td>...</td>\n",
       "      <td>...</td>\n",
       "      <td>...</td>\n",
       "      <td>...</td>\n",
       "      <td>...</td>\n",
       "    </tr>\n",
       "    <tr>\n",
       "      <th>2020-12-24</th>\n",
       "      <td>21487.896</td>\n",
       "      <td>1.500426</td>\n",
       "      <td>142545</td>\n",
       "      <td>2.134474</td>\n",
       "      <td>2119.000000</td>\n",
       "      <td>2081.000000</td>\n",
       "      <td>2119.000000</td>\n",
       "      <td>2088.350098</td>\n",
       "      <td>182500.0</td>\n",
       "      <td>2088.350098</td>\n",
       "      <td>10</td>\n",
       "      <td>2020</td>\n",
       "      <td>12</td>\n",
       "      <td>24</td>\n",
       "    </tr>\n",
       "    <tr>\n",
       "      <th>2020-12-28</th>\n",
       "      <td>21487.896</td>\n",
       "      <td>1.500426</td>\n",
       "      <td>142545</td>\n",
       "      <td>2.134474</td>\n",
       "      <td>2152.260010</td>\n",
       "      <td>2124.459961</td>\n",
       "      <td>2129.449951</td>\n",
       "      <td>2137.919922</td>\n",
       "      <td>251000.0</td>\n",
       "      <td>2137.919922</td>\n",
       "      <td>10</td>\n",
       "      <td>2020</td>\n",
       "      <td>12</td>\n",
       "      <td>28</td>\n",
       "    </tr>\n",
       "    <tr>\n",
       "      <th>2020-12-29</th>\n",
       "      <td>21487.896</td>\n",
       "      <td>1.500426</td>\n",
       "      <td>142545</td>\n",
       "      <td>2.134474</td>\n",
       "      <td>2200.000000</td>\n",
       "      <td>2153.959961</td>\n",
       "      <td>2165.979980</td>\n",
       "      <td>2185.399902</td>\n",
       "      <td>341900.0</td>\n",
       "      <td>2185.399902</td>\n",
       "      <td>10</td>\n",
       "      <td>2020</td>\n",
       "      <td>12</td>\n",
       "      <td>29</td>\n",
       "    </tr>\n",
       "    <tr>\n",
       "      <th>2020-12-30</th>\n",
       "      <td>21487.896</td>\n",
       "      <td>1.500426</td>\n",
       "      <td>142545</td>\n",
       "      <td>2.134474</td>\n",
       "      <td>2214.010010</td>\n",
       "      <td>2174.969971</td>\n",
       "      <td>2200.000000</td>\n",
       "      <td>2205.260010</td>\n",
       "      <td>229700.0</td>\n",
       "      <td>2205.260010</td>\n",
       "      <td>10</td>\n",
       "      <td>2020</td>\n",
       "      <td>12</td>\n",
       "      <td>30</td>\n",
       "    </tr>\n",
       "    <tr>\n",
       "      <th>2020-12-31</th>\n",
       "      <td>21487.896</td>\n",
       "      <td>1.500426</td>\n",
       "      <td>142545</td>\n",
       "      <td>2.134474</td>\n",
       "      <td>2227.969971</td>\n",
       "      <td>2185.000000</td>\n",
       "      <td>2198.070068</td>\n",
       "      <td>2227.270020</td>\n",
       "      <td>176600.0</td>\n",
       "      <td>2227.270020</td>\n",
       "      <td>10</td>\n",
       "      <td>2020</td>\n",
       "      <td>12</td>\n",
       "      <td>31</td>\n",
       "    </tr>\n",
       "  </tbody>\n",
       "</table>\n",
       "<p>110964 rows × 14 columns</p>\n",
       "</div>"
      ],
      "text/plain": [
       "                  GDP  growth_rate    jobs  growth_jobs         High  \\\n",
       "Date                                                                   \n",
       "2000-01-03  10002.857     1.045308  131005     0.636057   318.000000   \n",
       "2000-01-04  10002.857     1.045308  131005     0.636057   343.500000   \n",
       "2000-01-05  10002.857     1.045308  131005     0.636057   385.312500   \n",
       "2000-01-06  10002.857     1.045308  131005     0.636057   384.750000   \n",
       "2000-01-07  10002.857     1.045308  131005     0.636057   364.500000   \n",
       "...               ...          ...     ...          ...          ...   \n",
       "2020-12-24  21487.896     1.500426  142545     2.134474  2119.000000   \n",
       "2020-12-28  21487.896     1.500426  142545     2.134474  2152.260010   \n",
       "2020-12-29  21487.896     1.500426  142545     2.134474  2200.000000   \n",
       "2020-12-30  21487.896     1.500426  142545     2.134474  2214.010010   \n",
       "2020-12-31  21487.896     1.500426  142545     2.134474  2227.969971   \n",
       "\n",
       "                    Low         Open        Close     Volume    Adj Close  \\\n",
       "Date                                                                        \n",
       "2000-01-03   288.000000   315.000000   307.500000   847700.0   307.500000   \n",
       "2000-01-04   307.500000   308.250000   324.000000   972750.0   324.000000   \n",
       "2000-01-05   327.750000   331.500000   359.625000  1605417.0   359.625000   \n",
       "2000-01-06   326.250000   368.250000   345.000000  1175267.0   345.000000   \n",
       "2000-01-07   333.750000   358.125000   343.500000   339417.0   343.500000   \n",
       "...                 ...          ...          ...        ...          ...   \n",
       "2020-12-24  2081.000000  2119.000000  2088.350098   182500.0  2088.350098   \n",
       "2020-12-28  2124.459961  2129.449951  2137.919922   251000.0  2137.919922   \n",
       "2020-12-29  2153.959961  2165.979980  2185.399902   341900.0  2185.399902   \n",
       "2020-12-30  2174.969971  2200.000000  2205.260010   229700.0  2205.260010   \n",
       "2020-12-31  2185.000000  2198.070068  2227.270020   176600.0  2227.270020   \n",
       "\n",
       "            quarter  Year  month_y  day  \n",
       "Date                                     \n",
       "2000-01-03        1  2000        1    3  \n",
       "2000-01-04        1  2000        1    4  \n",
       "2000-01-05        1  2000        1    5  \n",
       "2000-01-06        1  2000        1    6  \n",
       "2000-01-07        1  2000        1    7  \n",
       "...             ...   ...      ...  ...  \n",
       "2020-12-24       10  2020       12   24  \n",
       "2020-12-28       10  2020       12   28  \n",
       "2020-12-29       10  2020       12   29  \n",
       "2020-12-30       10  2020       12   30  \n",
       "2020-12-31       10  2020       12   31  \n",
       "\n",
       "[110964 rows x 14 columns]"
      ]
     },
     "execution_count": 20,
     "metadata": {},
     "output_type": "execute_result"
    }
   ],
   "source": [
    "bkng_final = bkng_final[['Date','GDP','growth_rate','jobs','growth_jobs','High','Low','Open','Close','Volume','Adj Close','quarter','Year','month_y','day']].set_index('Date')\n",
    "\n",
    "bkng_final"
   ]
  },
  {
   "cell_type": "code",
   "execution_count": 21,
   "id": "unauthorized-talent",
   "metadata": {},
   "outputs": [],
   "source": [
    "X = bkng_final.drop(['GDP','jobs','Close','Volume'], axis = 1)\n",
    "y = bkng_final['Close']\n",
    "\n",
    "X_train = X[:105416]\n",
    "y_train = y[1:105417]\n",
    "\n",
    "X_test = X[105416:len(X)-1]\n",
    "y_test = y[105417:]"
   ]
  },
  {
   "cell_type": "code",
   "execution_count": 22,
   "id": "tracked-infection",
   "metadata": {},
   "outputs": [
    {
     "name": "stdout",
     "output_type": "stream",
     "text": [
      "[12:43:34] WARNING: src/objective/regression_obj.cu:152: reg:linear is now deprecated in favor of reg:squarederror.\n"
     ]
    },
    {
     "data": {
      "text/plain": [
       "0.997893473753939"
      ]
     },
     "metadata": {},
     "output_type": "display_data"
    },
    {
     "data": {
      "text/plain": [
       "0.9978504887330489"
      ]
     },
     "metadata": {},
     "output_type": "display_data"
    }
   ],
   "source": [
    "import xgboost\n",
    "\n",
    "xgb_reg = xgboost.XGBRegressor()\n",
    "xgb_reg.fit(X_train, y_train)\n",
    "display(xgb_reg.score(X_test,y_test))\n",
    "display(xgb_reg.score(X_train,y_train))"
   ]
  },
  {
   "cell_type": "code",
   "execution_count": 23,
   "id": "dying-still",
   "metadata": {},
   "outputs": [],
   "source": [
    "pred = xgb_reg.predict(X_test)"
   ]
  },
  {
   "cell_type": "code",
   "execution_count": 24,
   "id": "worldwide-yellow",
   "metadata": {},
   "outputs": [
    {
     "data": {
      "text/plain": [
       "0.997893473753939"
      ]
     },
     "execution_count": 24,
     "metadata": {},
     "output_type": "execute_result"
    }
   ],
   "source": [
    "from sklearn.metrics import r2_score\n",
    "\n",
    "\n",
    "r2_score(y_test, pred)"
   ]
  },
  {
   "cell_type": "code",
   "execution_count": 25,
   "id": "introductory-investigator",
   "metadata": {},
   "outputs": [
    {
     "name": "stdout",
     "output_type": "stream",
     "text": [
      "[12:43:37] WARNING: src/objective/regression_obj.cu:152: reg:linear is now deprecated in favor of reg:squarederror.\n",
      "[12:43:40] WARNING: src/objective/regression_obj.cu:152: reg:linear is now deprecated in favor of reg:squarederror.\n",
      "[12:43:42] WARNING: src/objective/regression_obj.cu:152: reg:linear is now deprecated in favor of reg:squarederror.\n",
      "[12:43:44] WARNING: src/objective/regression_obj.cu:152: reg:linear is now deprecated in favor of reg:squarederror.\n",
      "[12:43:47] WARNING: src/objective/regression_obj.cu:152: reg:linear is now deprecated in favor of reg:squarederror.\n",
      "[12:43:49] WARNING: src/objective/regression_obj.cu:152: reg:linear is now deprecated in favor of reg:squarederror.\n",
      "[12:43:51] WARNING: src/objective/regression_obj.cu:152: reg:linear is now deprecated in favor of reg:squarederror.\n",
      "[12:43:53] WARNING: src/objective/regression_obj.cu:152: reg:linear is now deprecated in favor of reg:squarederror.\n",
      "[12:43:56] WARNING: src/objective/regression_obj.cu:152: reg:linear is now deprecated in favor of reg:squarederror.\n",
      "[12:43:58] WARNING: src/objective/regression_obj.cu:152: reg:linear is now deprecated in favor of reg:squarederror.\n"
     ]
    }
   ],
   "source": [
    "from sklearn.model_selection import cross_validate\n",
    "\n",
    "results = cross_validate(xgb_reg,X_train, y_train, cv = 10)\n"
   ]
  },
  {
   "cell_type": "code",
   "execution_count": 37,
   "id": "electric-contractor",
   "metadata": {},
   "outputs": [
    {
     "data": {
      "text/plain": [
       "array([2181.7827], dtype=float32)"
      ]
     },
     "execution_count": 37,
     "metadata": {},
     "output_type": "execute_result"
    }
   ],
   "source": [
    "xgb_reg.predict(pd.DataFrame([1.500426, 2.134474, 2312.80, 2178.88, 2235.77,2307.10,1 ,2021, 3, 9],X.columns).T)"
   ]
  },
  {
   "cell_type": "code",
   "execution_count": 33,
   "id": "decent-nursery",
   "metadata": {
    "scrolled": true
   },
   "outputs": [
    {
     "data": {
      "text/html": [
       "<div>\n",
       "<style scoped>\n",
       "    .dataframe tbody tr th:only-of-type {\n",
       "        vertical-align: middle;\n",
       "    }\n",
       "\n",
       "    .dataframe tbody tr th {\n",
       "        vertical-align: top;\n",
       "    }\n",
       "\n",
       "    .dataframe thead th {\n",
       "        text-align: right;\n",
       "    }\n",
       "</style>\n",
       "<table border=\"1\" class=\"dataframe\">\n",
       "  <thead>\n",
       "    <tr style=\"text-align: right;\">\n",
       "      <th></th>\n",
       "      <th>growth_rate</th>\n",
       "      <th>growth_jobs</th>\n",
       "      <th>High</th>\n",
       "      <th>Low</th>\n",
       "      <th>Open</th>\n",
       "      <th>Adj Close</th>\n",
       "      <th>quarter</th>\n",
       "      <th>Year</th>\n",
       "      <th>month_y</th>\n",
       "      <th>day</th>\n",
       "    </tr>\n",
       "  </thead>\n",
       "  <tbody>\n",
       "    <tr>\n",
       "      <th>0</th>\n",
       "      <td>1.500426</td>\n",
       "      <td>2.134474</td>\n",
       "      <td>2412.34</td>\n",
       "      <td>2298.36</td>\n",
       "      <td>2303.43</td>\n",
       "      <td>2368.74</td>\n",
       "      <td>1.0</td>\n",
       "      <td>2021.0</td>\n",
       "      <td>3.0</td>\n",
       "      <td>9.0</td>\n",
       "    </tr>\n",
       "  </tbody>\n",
       "</table>\n",
       "</div>"
      ],
      "text/plain": [
       "   growth_rate  growth_jobs     High      Low     Open  Adj Close  quarter  \\\n",
       "0     1.500426     2.134474  2412.34  2298.36  2303.43    2368.74      1.0   \n",
       "\n",
       "     Year  month_y  day  \n",
       "0  2021.0      3.0  9.0  "
      ]
     },
     "execution_count": 33,
     "metadata": {},
     "output_type": "execute_result"
    }
   ],
   "source": [
    "2235.77\t2312.80\t2178.88\t2,307.10\t2307.10\t"
   ]
  },
  {
   "cell_type": "code",
   "execution_count": 31,
   "id": "assumed-migration",
   "metadata": {},
   "outputs": [
    {
     "data": {
      "text/plain": [
       "Index(['growth_rate', 'growth_jobs', 'High', 'Low', 'Open', 'Adj Close',\n",
       "       'quarter', 'Year', 'month_y', 'day'],\n",
       "      dtype='object')"
      ]
     },
     "execution_count": 31,
     "metadata": {},
     "output_type": "execute_result"
    }
   ],
   "source": [
    "X.columns"
   ]
  },
  {
   "cell_type": "code",
   "execution_count": null,
   "id": "mounted-columbus",
   "metadata": {},
   "outputs": [],
   "source": [
    "results['test_score'].mean()\n",
    "results['test_score']"
   ]
  },
  {
   "cell_type": "code",
   "execution_count": null,
   "id": "distant-simple",
   "metadata": {},
   "outputs": [],
   "source": [
    "import pickle\n",
    "\n",
    "pickle.dump(xgb_reg, open('model_bkng.p', 'wb'))"
   ]
  }
 ],
 "metadata": {
  "kernelspec": {
   "display_name": "Python 3",
   "language": "python",
   "name": "python3"
  },
  "language_info": {
   "codemirror_mode": {
    "name": "ipython",
    "version": 3
   },
   "file_extension": ".py",
   "mimetype": "text/x-python",
   "name": "python",
   "nbconvert_exporter": "python",
   "pygments_lexer": "ipython3",
   "version": "3.7.10"
  }
 },
 "nbformat": 4,
 "nbformat_minor": 5
}
